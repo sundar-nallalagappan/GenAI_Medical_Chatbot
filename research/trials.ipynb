{
 "cells": [
  {
   "cell_type": "code",
   "execution_count": 1,
   "id": "f36f9d70",
   "metadata": {},
   "outputs": [
    {
     "name": "stdout",
     "output_type": "stream",
     "text": [
      "sairam\n"
     ]
    }
   ],
   "source": [
    "print(\"sairam\")"
   ]
  },
  {
   "cell_type": "code",
   "execution_count": 2,
   "id": "d6ebf54a",
   "metadata": {},
   "outputs": [
    {
     "data": {
      "text/plain": [
       "'d:\\\\Generative AI\\\\GenAI_Medical_Chatbot\\\\research'"
      ]
     },
     "execution_count": 2,
     "metadata": {},
     "output_type": "execute_result"
    }
   ],
   "source": [
    "%pwd"
   ]
  },
  {
   "cell_type": "code",
   "execution_count": 3,
   "id": "3091f262",
   "metadata": {},
   "outputs": [
    {
     "data": {
      "text/plain": [
       "'d:\\\\Generative AI\\\\GenAI_Medical_Chatbot'"
      ]
     },
     "execution_count": 3,
     "metadata": {},
     "output_type": "execute_result"
    }
   ],
   "source": [
    "import os\n",
    "os.chdir(\"../\")\n",
    "%pwd"
   ]
  },
  {
   "cell_type": "code",
   "execution_count": 4,
   "id": "25085ca3",
   "metadata": {},
   "outputs": [],
   "source": [
    "from langchain.document_loaders import PyPDFLoader, DirectoryLoader\n",
    "from langchain.text_splitter import RecursiveCharacterTextSplitter"
   ]
  },
  {
   "cell_type": "code",
   "execution_count": 5,
   "id": "8b39db0f",
   "metadata": {},
   "outputs": [],
   "source": [
    "def load_pdf_file(data_dir):\n",
    "    loader = DirectoryLoader(path=data_dir,\n",
    "                            glob=\"*.pdf\",\n",
    "                            loader_cls=PyPDFLoader\n",
    "                            )\n",
    "    documents = loader.load()\n",
    "    return documents\n",
    "    "
   ]
  },
  {
   "cell_type": "code",
   "execution_count": 6,
   "id": "35e6deec",
   "metadata": {},
   "outputs": [
    {
     "data": {
      "text/plain": [
       "637"
      ]
     },
     "execution_count": 6,
     "metadata": {},
     "output_type": "execute_result"
    }
   ],
   "source": [
    "extracted_documents = load_pdf_file(\"./data\")\n",
    "len(extracted_documents)"
   ]
  },
  {
   "cell_type": "code",
   "execution_count": 7,
   "id": "dbae4506",
   "metadata": {},
   "outputs": [
    {
     "data": {
      "text/plain": [
       "Document(metadata={'producer': 'PDFlib+PDI 5.0.0 (SunOS)', 'creator': 'PyPDF', 'creationdate': '2004-12-18T17:00:02-05:00', 'moddate': '2004-12-18T16:15:31-06:00', 'source': 'data\\\\Medical_book.pdf', 'total_pages': 637, 'page': 100, 'page_label': '101'}, page_content='• T cell lymphocytes: 644-2200/mm\\n3\\n, 60-88% of all lym-\\nphocytes.\\n• B cell lymphocytes: 82-392/mm\\n3\\n, 3-20% of all lympho-\\ncytes.\\n• CD4+ lymphocytes: 500-1200/mm\\n3\\n, 34-67% of all\\nlymphocytes.\\nAbnormal results\\nThe following results in AIDS tests indicate progres-\\nsion of the disease:\\n• Percentage of CD4+ lymphocytes: less than 20% of all\\nlymphocytes.\\n• CD4+ lymphocyte count: less than 200 cells/mm\\n3\\n.\\n• Viral load test: Levels more than 5000 copies/mL.\\n•/H9252-2-microglobulin: Levels more than 3.5 mg/dL.\\n• P24 antigen: Measurable amounts in blood serum.\\nResources\\nBOOKS\\nAvrameas, Stratis, and Therese Ternynck. “Enzyme Linked\\nImmunosorbent Assay (ELISA).” In Encyclopedia of\\nImmunology.V ol. 1. Ed. Ivan M. Roitt and Peter J. Delves.\\nLondon: Academic Press, 1992.\\nBennett, Rebecca, and Erin, Charles A. (Editors). HIV and\\nAIDS Testing, Screening, and Confidentiality: Ethics, Law,\\nand Social Policy.Oxford, England: Oxford University\\nPress, 2001.\\nEarly HIV Infection Guideline Panel. Evaluation and Manage-\\nment of Early HIV Infection. Rockville, MD: U.S. Depart-\\nment of Health and Human Services, Agency for Health\\nCare Policy and Research, 1994.\\nHuber, Jeffrey T. Dictionary of AIDS- Related Terminology.\\nNew York: Neal-Schuman Publishers, Inc., 1993.\\n“Infectious Diseases: Human Immunodeficiency Virus (HIV).”\\nIn Neonatology: Management, Procedures, On-Call Prob-\\nlems, Diseases and Drugs. Ed. Tricia Lacy Gomella et al.\\nNorwalk, CT: Appleton & Lange, 1994.\\nKatz, Mitchell H., and Harry Hollander. “HIV Infection.” In\\nCurrent Medical Diagnosis & Treatment.Ed. Lawrence\\nM. Tierney et al. Stamford, CT: Appleton & Lange, 1998.\\nMcClure, Myra. “Human Immunodeficiency Viruses.” In Ency-\\nclopedia of Immunology.V ol. 2. Ed. by Ivan M. Roitt and\\nPeter J. Delves. London: Academic Press, 1992.\\nMcFarland, Elizabeth J. “Human Immunodeficiency Virus\\n(HIV) Infections: Acquired Immunodeficiency Syndrome\\n(AIDS).” In Current Pediatric Diagnosis & Treatment.Ed.\\nWilliam W. Hay et al. Stamford, CT: Appleton & Lange,\\n1997.\\nSo, Peter, and Livette Johnson. “Acquired Immune Deficiency\\nSyndrome (AIDS).” In Conn’s Current Therapy.Ed.\\nRobert E. Rakel. Philadelphia: W. B. Saunders Company,\\n1997.\\nSpringhouse Publishing. Handbook of Diagnostic Tests.\\nSpringhouse, PA: Springhouse Publishing Co., 1999.\\nTowbin, Harry. “Western Blotting.” In Encyclopedia of\\nImmunology.V ol. 3. Ed. Ivan M. Roitt and Peter J. Delves.\\nLondon: Academic Press, 1992.\\nPERIODICALS\\nFreedberg, Kenneth A., and Samet, Jeffrey H. “Think HIV\\n(HIV Testing).”Archives of Internal Medicine (September\\n27, 1999): 1994\\nKaplan, Edward H., and Satten, Glen A. “Repeat Screening for\\nHIV: When to Test and Why.”The Journal of the Ameri-\\ncan Medical Association. (July 19, 2000): 285.\\nSieff, Elaine M., et al. “Anticipated Versus Actual Reaction to\\nHIV Test Results.”American Journal of Psychology.\\n(Summer 1999): 297-298.\\nWeinhardt, Lance S., et al. “Human Immunodeficiency Virus\\nTesting and Behavior Change.”Archives of Internal Medi-\\ncine. (May 22, 2000): 1538.\\nWoehrle, Theresa A., and Branson, Bernard. “New Tests for\\nDetecting HIV Infection.”The Western Journal of Medi-\\ncine. (December 1998): 371-372.\\nORGANIZATION\\nNational Association of People with Aids. 1413 K St.N.W.,\\nWashington, DC 20005-3442. (202) 898-0414.\\nNational Institute of Health. Office of Aids Research. (301)\\n496-0357. <http://www.nih.gov/od/oar/index.htm>.\\nCenters for Disease Control and Prevention (CDC). 1600\\nClifton Rd., Atlanta, GA 30337. (404) 639-3311. <http://\\nwww.cdc.gov>.\\nOTHER\\nFood and Drug Administration (FDA). “Testing Yourself for\\nHIV-1, the Virus that Causes AIDS.” 1999. Available at\\nFDA Website: <http://www.fda.gov>. or by calling (301)\\n827-4460.\\nKen R. Wells\\nAir embolism see Gas embolism\\nAlanine aminotransferase test\\nDefinition\\nThe alanine aminotransferase test, also known as\\nALT, is one of a group of tests known as liver function\\ntests (or LFTs) and is used to monitor damage to the liver.\\nPurpose\\nALT levels are used to detect liver abnormalities.\\nSince the alanine aminotransferase enzyme is also found\\nin muscle, tests indicating elevated AST levels might also\\nindicate muscle damage. However, other tests, such as\\nGALE ENCYCLOPEDIA OF MEDICINE 2 87\\nAlanine aminotransferase test\\nGEM - 0001 to 0432 - A  10/22/03 1:41 PM  Page 87')"
      ]
     },
     "execution_count": 7,
     "metadata": {},
     "output_type": "execute_result"
    }
   ],
   "source": [
    "extracted_documents[100]"
   ]
  },
  {
   "cell_type": "code",
   "execution_count": 8,
   "id": "d16c0e7f",
   "metadata": {},
   "outputs": [],
   "source": [
    "def text_split(extracted_data):\n",
    "    text_splitter = RecursiveCharacterTextSplitter(chunk_size=500, chunk_overlap=20)\n",
    "    text_chunks = text_splitter.split_documents(extracted_data)\n",
    "    return text_chunks"
   ]
  },
  {
   "cell_type": "code",
   "execution_count": 9,
   "id": "48387ddb",
   "metadata": {},
   "outputs": [
    {
     "data": {
      "text/plain": [
       "5860"
      ]
     },
     "execution_count": 9,
     "metadata": {},
     "output_type": "execute_result"
    }
   ],
   "source": [
    "text_chunks = text_split(extracted_documents)\n",
    "len(text_chunks)"
   ]
  },
  {
   "cell_type": "code",
   "execution_count": 10,
   "id": "003cc615",
   "metadata": {},
   "outputs": [
    {
     "name": "stderr",
     "output_type": "stream",
     "text": [
      "C:\\Users\\SAIRAM\\AppData\\Local\\Temp\\ipykernel_22492\\2129519088.py:3: LangChainDeprecationWarning: The class `HuggingFaceEmbeddings` was deprecated in LangChain 0.2.2 and will be removed in 1.0. An updated version of the class exists in the :class:`~langchain-huggingface package and should be used instead. To use it run `pip install -U :class:`~langchain-huggingface` and import as `from :class:`~langchain_huggingface import HuggingFaceEmbeddings``.\n",
      "  embeddings=HuggingFaceEmbeddings(model_name=\"sentence-transformers/all-MiniLM-L6-v2\")\n",
      "d:\\AI\\GenAI\\GenAI_Bootcamp\\genai\\lib\\site-packages\\tqdm\\auto.py:21: TqdmWarning: IProgress not found. Please update jupyter and ipywidgets. See https://ipywidgets.readthedocs.io/en/stable/user_install.html\n",
      "  from .autonotebook import tqdm as notebook_tqdm\n"
     ]
    },
    {
     "name": "stdout",
     "output_type": "stream",
     "text": [
      "WARNING:tensorflow:From d:\\AI\\GenAI\\GenAI_Bootcamp\\genai\\lib\\site-packages\\tf_keras\\src\\losses.py:2976: The name tf.losses.sparse_softmax_cross_entropy is deprecated. Please use tf.compat.v1.losses.sparse_softmax_cross_entropy instead.\n",
      "\n"
     ]
    }
   ],
   "source": [
    "from langchain.embeddings import HuggingFaceEmbeddings\n",
    "def download_hugging_face_embedding_model():\n",
    "    embeddings=HuggingFaceEmbeddings(model_name=\"sentence-transformers/all-MiniLM-L6-v2\")\n",
    "    return embeddings\n",
    "embeddings=download_hugging_face_embedding_model()"
   ]
  },
  {
   "cell_type": "code",
   "execution_count": 15,
   "id": "c2a6ed99",
   "metadata": {},
   "outputs": [],
   "source": [
    "#embeddings.embed_query(\"sairam\")"
   ]
  },
  {
   "cell_type": "code",
   "execution_count": 16,
   "id": "7722c03d",
   "metadata": {},
   "outputs": [
    {
     "name": "stdout",
     "output_type": "stream",
     "text": [
      "Requirement already satisfied: python-dotenv in d:\\ai\\genai\\genai_bootcamp\\genai\\lib\\site-packages (1.1.0)\n"
     ]
    }
   ],
   "source": [
    "!pip install python-dotenv"
   ]
  },
  {
   "cell_type": "code",
   "execution_count": 33,
   "id": "9697ed8a",
   "metadata": {},
   "outputs": [],
   "source": [
    "from dotenv import load_dotenv\n",
    "load_dotenv()\n",
    "PINECONE_API_KEY = os.getenv(\"PINECONE_API_KEY\")\n",
    "OPENAI_API_KEY = os.getenv(\"OPENAI_API_KEY\")"
   ]
  },
  {
   "cell_type": "code",
   "execution_count": null,
   "id": "438eafdd",
   "metadata": {},
   "outputs": [
    {
     "data": {
      "text/plain": [
       "{\n",
       "    \"name\": \"medical-chatbot-embeddings\",\n",
       "    \"metric\": \"cosine\",\n",
       "    \"host\": \"medical-chatbot-embeddings-9psm55o.svc.aped-4627-b74a.pinecone.io\",\n",
       "    \"spec\": {\n",
       "        \"serverless\": {\n",
       "            \"cloud\": \"aws\",\n",
       "            \"region\": \"us-east-1\"\n",
       "        }\n",
       "    },\n",
       "    \"status\": {\n",
       "        \"ready\": true,\n",
       "        \"state\": \"Ready\"\n",
       "    },\n",
       "    \"vector_type\": \"dense\",\n",
       "    \"dimension\": 384,\n",
       "    \"deletion_protection\": \"disabled\",\n",
       "    \"tags\": null\n",
       "}"
      ]
     },
     "execution_count": 21,
     "metadata": {},
     "output_type": "execute_result"
    }
   ],
   "source": [
    "\n",
    "from pinecone import Pinecone, ServerlessSpec\n",
    "\n",
    "pc = Pinecone(api_key=PINECONE_API_KEY)\n",
    "index_name = \"medical-chatbot-embeddings\"\n",
    "\n",
    "pc.create_index(\n",
    "    name=index_name,\n",
    "    dimension=384, # Replace with your model dimensions\n",
    "    metric=\"cosine\", # Replace with your model metric\n",
    "    spec=ServerlessSpec(\n",
    "        cloud=\"aws\",\n",
    "        region=\"us-east-1\"\n",
    "    ) \n",
    ")"
   ]
  },
  {
   "cell_type": "code",
   "execution_count": 31,
   "id": "06b22146",
   "metadata": {},
   "outputs": [],
   "source": [
    "os.getenv(\"OPENAI_API_KEY\")"
   ]
  },
  {
   "cell_type": "code",
   "execution_count": 32,
   "id": "02f9de79",
   "metadata": {},
   "outputs": [
    {
     "ename": "TypeError",
     "evalue": "str expected, not NoneType",
     "output_type": "error",
     "traceback": [
      "\u001b[1;31m---------------------------------------------------------------------------\u001b[0m",
      "\u001b[1;31mTypeError\u001b[0m                                 Traceback (most recent call last)",
      "Cell \u001b[1;32mIn[32], line 3\u001b[0m\n\u001b[0;32m      1\u001b[0m os\u001b[38;5;241m.\u001b[39menviron[\u001b[38;5;124m'\u001b[39m\u001b[38;5;124mPINECONE_API_KEY\u001b[39m\u001b[38;5;124m'\u001b[39m] \u001b[38;5;241m=\u001b[39m PINECONE_API_KEY\n\u001b[0;32m      2\u001b[0m OPENAI_API_KEY \u001b[38;5;241m=\u001b[39m os\u001b[38;5;241m.\u001b[39mgetenv(\u001b[38;5;124m\"\u001b[39m\u001b[38;5;124mOPENAI_API_KEY\u001b[39m\u001b[38;5;124m\"\u001b[39m)\n\u001b[1;32m----> 3\u001b[0m \u001b[43mos\u001b[49m\u001b[38;5;241;43m.\u001b[39;49m\u001b[43menviron\u001b[49m\u001b[43m[\u001b[49m\u001b[38;5;124;43m'\u001b[39;49m\u001b[38;5;124;43mOPENAI_API_KEY\u001b[39;49m\u001b[38;5;124;43m'\u001b[39;49m\u001b[43m]\u001b[49m \u001b[38;5;241m=\u001b[39m OPENAI_API_KEY\n",
      "File \u001b[1;32md:\\AI\\GenAI\\GenAI_Bootcamp\\genai\\lib\\os.py:685\u001b[0m, in \u001b[0;36m_Environ.__setitem__\u001b[1;34m(self, key, value)\u001b[0m\n\u001b[0;32m    683\u001b[0m \u001b[38;5;28;01mdef\u001b[39;00m \u001b[38;5;21m__setitem__\u001b[39m(\u001b[38;5;28mself\u001b[39m, key, value):\n\u001b[0;32m    684\u001b[0m     key \u001b[38;5;241m=\u001b[39m \u001b[38;5;28mself\u001b[39m\u001b[38;5;241m.\u001b[39mencodekey(key)\n\u001b[1;32m--> 685\u001b[0m     value \u001b[38;5;241m=\u001b[39m \u001b[38;5;28;43mself\u001b[39;49m\u001b[38;5;241;43m.\u001b[39;49m\u001b[43mencodevalue\u001b[49m\u001b[43m(\u001b[49m\u001b[43mvalue\u001b[49m\u001b[43m)\u001b[49m\n\u001b[0;32m    686\u001b[0m     putenv(key, value)\n\u001b[0;32m    687\u001b[0m     \u001b[38;5;28mself\u001b[39m\u001b[38;5;241m.\u001b[39m_data[key] \u001b[38;5;241m=\u001b[39m value\n",
      "File \u001b[1;32md:\\AI\\GenAI\\GenAI_Bootcamp\\genai\\lib\\os.py:743\u001b[0m, in \u001b[0;36m_createenviron.<locals>.check_str\u001b[1;34m(value)\u001b[0m\n\u001b[0;32m    741\u001b[0m \u001b[38;5;28;01mdef\u001b[39;00m \u001b[38;5;21mcheck_str\u001b[39m(value):\n\u001b[0;32m    742\u001b[0m     \u001b[38;5;28;01mif\u001b[39;00m \u001b[38;5;129;01mnot\u001b[39;00m \u001b[38;5;28misinstance\u001b[39m(value, \u001b[38;5;28mstr\u001b[39m):\n\u001b[1;32m--> 743\u001b[0m         \u001b[38;5;28;01mraise\u001b[39;00m \u001b[38;5;167;01mTypeError\u001b[39;00m(\u001b[38;5;124m\"\u001b[39m\u001b[38;5;124mstr expected, not \u001b[39m\u001b[38;5;132;01m%s\u001b[39;00m\u001b[38;5;124m\"\u001b[39m \u001b[38;5;241m%\u001b[39m \u001b[38;5;28mtype\u001b[39m(value)\u001b[38;5;241m.\u001b[39m\u001b[38;5;18m__name__\u001b[39m)\n\u001b[0;32m    744\u001b[0m     \u001b[38;5;28;01mreturn\u001b[39;00m value\n",
      "\u001b[1;31mTypeError\u001b[0m: str expected, not NoneType"
     ]
    }
   ],
   "source": [
    "os.environ['PINECONE_API_KEY'] = PINECONE_API_KEY\n",
    "OPENAI_API_KEY = os.getenv(\"OPENAI_API_KEY\")\n",
    "os.environ['OPENAI_API_KEY'] = OPENAI_API_KEY"
   ]
  },
  {
   "cell_type": "code",
   "execution_count": 23,
   "id": "f8612c8f",
   "metadata": {},
   "outputs": [],
   "source": [
    "from langchain_pinecone import PineconeVectorStore\n",
    "#Embed each chunk and upsert each embeddings into index\n",
    "docsearch = PineconeVectorStore.from_documents(\n",
    "    documents=text_chunks,\n",
    "    index_name=index_name,\n",
    "    embedding=embeddings\n",
    ")"
   ]
  },
  {
   "cell_type": "code",
   "execution_count": 24,
   "id": "ea105569",
   "metadata": {},
   "outputs": [],
   "source": [
    "#Load existing index\n",
    "docsearch = PineconeVectorStore.from_existing_index(\n",
    "    index_name=index_name,\n",
    "    embedding=embeddings\n",
    ")"
   ]
  },
  {
   "cell_type": "code",
   "execution_count": 26,
   "id": "445a2b3b",
   "metadata": {},
   "outputs": [],
   "source": [
    "retriever = docsearch.as_retriever(search_type=\"similarity\", sarch_kwargs={'k':3})\n",
    "retrieved_docs = retriever.invoke(\"what is acne?\")"
   ]
  },
  {
   "cell_type": "code",
   "execution_count": 27,
   "id": "c7c9a2fc",
   "metadata": {},
   "outputs": [
    {
     "data": {
      "text/plain": [
       "[Document(id='87b66e77-5b20-45bc-b626-e2addc80d432', metadata={'creationdate': '2004-12-18T17:00:02-05:00', 'creator': 'PyPDF', 'moddate': '2004-12-18T16:15:31-06:00', 'page': 39.0, 'page_label': '40', 'producer': 'PDFlib+PDI 5.0.0 (SunOS)', 'source': 'data\\\\Medical_book.pdf', 'total_pages': 637.0}, page_content='GALE ENCYCLOPEDIA OF MEDICINE 226\\nAcne\\nGEM - 0001 to 0432 - A  10/22/03 1:41 PM  Page 26'),\n",
       " Document(id='c9535706-c91f-48df-97f2-ce5fcbdb1435', metadata={'creationdate': '2004-12-18T17:00:02-05:00', 'creator': 'PyPDF', 'moddate': '2004-12-18T16:15:31-06:00', 'page': 38.0, 'page_label': '39', 'producer': 'PDFlib+PDI 5.0.0 (SunOS)', 'source': 'data\\\\Medical_book.pdf', 'total_pages': 637.0}, page_content='GALE ENCYCLOPEDIA OF MEDICINE 2 25\\nAcne\\nAcne vulgaris affecting a woman’s face. Acne is the general\\nname given to a skin disorder in which the sebaceous\\nglands become inflamed.(Photograph by Biophoto Associ-\\nates, Photo Researchers, Inc. Reproduced by permission.)\\nGEM - 0001 to 0432 - A  10/22/03 1:41 PM  Page 25'),\n",
       " Document(id='0931c73c-3585-40ad-9e4e-1e975451b127', metadata={'creationdate': '2004-12-18T17:00:02-05:00', 'creator': 'PyPDF', 'moddate': '2004-12-18T16:15:31-06:00', 'page': 37.0, 'page_label': '38', 'producer': 'PDFlib+PDI 5.0.0 (SunOS)', 'source': 'data\\\\Medical_book.pdf', 'total_pages': 637.0}, page_content='Acidosis see Respiratory acidosis; Renal\\ntubular acidosis; Metabolic acidosis\\nAcne\\nDefinition\\nAcne is a common skin disease characterized by\\npimples on the face, chest, and back. It occurs when the\\npores of the skin become clogged with oil, dead skin\\ncells, and bacteria.\\nDescription\\nAcne vulgaris, the medical term for common acne, is\\nthe most common skin disease. It affects nearly 17 million\\npeople in the United States. While acne can arise at any'),\n",
       " Document(id='bfc3d66c-fa50-40f8-b42d-fa648de1bf0a', metadata={'creationdate': '2004-12-18T17:00:02-05:00', 'creator': 'PyPDF', 'moddate': '2004-12-18T16:15:31-06:00', 'page': 239.0, 'page_label': '240', 'producer': 'PDFlib+PDI 5.0.0 (SunOS)', 'source': 'data\\\\Medical_book.pdf', 'total_pages': 637.0}, page_content='Isotretinoin (Accutane) is prescribed only for very\\nsevere, disfiguring acne.\\nAcne is a skin condition that occurs when pores or\\nhair follicles become blocked. This allows a waxy\\nmaterial, sebum, to collect inside the pores or follicles.\\nNormally, sebum flows out onto the skin and hair to\\nform a protective coating, but when it cannot get out,\\nsmall swellings develop on the skin surface. Bacteria\\nand dead skin cells can also collect that can cause\\ninflammation. Swellings that are small and not')]"
      ]
     },
     "execution_count": 27,
     "metadata": {},
     "output_type": "execute_result"
    }
   ],
   "source": [
    "retrieved_docs"
   ]
  },
  {
   "cell_type": "code",
   "execution_count": 34,
   "id": "50dde73d",
   "metadata": {},
   "outputs": [],
   "source": [
    "from langchain_openai import OpenAI\n",
    "llm = OpenAI(temperature=0.4, max_tokens=500)"
   ]
  },
  {
   "cell_type": "code",
   "execution_count": 37,
   "id": "9881b4a5",
   "metadata": {},
   "outputs": [
    {
     "data": {
      "text/plain": [
       "ChatPromptTemplate(input_variables=['context', 'input'], input_types={}, partial_variables={}, messages=[SystemMessagePromptTemplate(prompt=PromptTemplate(input_variables=['context'], input_types={}, partial_variables={}, template='You are an assistant for question-answering tasksUse the following context to answer based on retrieved contextIf you are not or dont know the answer then say you are not awareanswer precise\\n\\n{context}'), additional_kwargs={}), HumanMessagePromptTemplate(prompt=PromptTemplate(input_variables=['input'], input_types={}, partial_variables={}, template='{input}'), additional_kwargs={})])"
      ]
     },
     "execution_count": 37,
     "metadata": {},
     "output_type": "execute_result"
    }
   ],
   "source": [
    "from langchain.chains import create_retrieval_chain\n",
    "from langchain.chains.combine_documents import create_stuff_documents_chain\n",
    "from langchain_core.prompts import ChatPromptTemplate\n",
    "\n",
    "system_prompt = (\n",
    "    \"You are an assistant for question-answering tasks\"\n",
    "    \"Use the following context to answer based on retrieved context\"\n",
    "    \"If you are not or dont know the answer then say you are not aware\"\n",
    "    \"answer precise\"\n",
    "    \"\\n\"\"\\n\"\n",
    "    \"{context}\"\n",
    ")\n",
    "\n",
    "prompt = ChatPromptTemplate(\n",
    "    [\n",
    "        (\"system\", system_prompt),\n",
    "        (\"human\", \"{input}\"),\n",
    "    ]\n",
    ")\n",
    "prompt"
   ]
  },
  {
   "cell_type": "code",
   "execution_count": 38,
   "id": "1273a3ba",
   "metadata": {},
   "outputs": [],
   "source": [
    "question_answer_chain = create_stuff_documents_chain(llm, prompt)\n",
    "rag_chain = create_retrieval_chain(retriever, question_answer_chain)"
   ]
  },
  {
   "cell_type": "code",
   "execution_count": 41,
   "id": "09774e01",
   "metadata": {},
   "outputs": [
    {
     "name": "stdout",
     "output_type": "stream",
     "text": [
      "{'input': 'what is meant by acne and how to cure it?', 'context': [Document(id='87b66e77-5b20-45bc-b626-e2addc80d432', metadata={'creationdate': '2004-12-18T17:00:02-05:00', 'creator': 'PyPDF', 'moddate': '2004-12-18T16:15:31-06:00', 'page': 39.0, 'page_label': '40', 'producer': 'PDFlib+PDI 5.0.0 (SunOS)', 'source': 'data\\\\Medical_book.pdf', 'total_pages': 637.0}, page_content='GALE ENCYCLOPEDIA OF MEDICINE 226\\nAcne\\nGEM - 0001 to 0432 - A  10/22/03 1:41 PM  Page 26'), Document(id='c9535706-c91f-48df-97f2-ce5fcbdb1435', metadata={'creationdate': '2004-12-18T17:00:02-05:00', 'creator': 'PyPDF', 'moddate': '2004-12-18T16:15:31-06:00', 'page': 38.0, 'page_label': '39', 'producer': 'PDFlib+PDI 5.0.0 (SunOS)', 'source': 'data\\\\Medical_book.pdf', 'total_pages': 637.0}, page_content='GALE ENCYCLOPEDIA OF MEDICINE 2 25\\nAcne\\nAcne vulgaris affecting a woman’s face. Acne is the general\\nname given to a skin disorder in which the sebaceous\\nglands become inflamed.(Photograph by Biophoto Associ-\\nates, Photo Researchers, Inc. Reproduced by permission.)\\nGEM - 0001 to 0432 - A  10/22/03 1:41 PM  Page 25'), Document(id='c5150ee6-37db-4f34-a680-f1912c678b1e', metadata={'creationdate': '2004-12-18T17:00:02-05:00', 'creator': 'PyPDF', 'moddate': '2004-12-18T16:15:31-06:00', 'page': 40.0, 'page_label': '41', 'producer': 'PDFlib+PDI 5.0.0 (SunOS)', 'source': 'data\\\\Medical_book.pdf', 'total_pages': 637.0}, page_content='• shampoo often and wear hair off face\\n• eat a well-balanced diet, avoiding foods that trigger\\nflare-ups\\n• unless told otherwise, give dry pimples a limited\\namount of sun exposur\\n• do not pick or squeeze blemishes\\n• reduce stress\\nResources\\nBOOKS\\nBalch, James F., and Phyllis A. Balch. “The Disorders: Acne.”\\nIn Prescription for Nutritional Healing, ed. Amy C. Teck-\\nlenburg, et al. New York: Avery Publishing Group, 1997.\\nBark, Joseph P. Your Skin: An Owner’s Guide.Englewood'), Document(id='0931c73c-3585-40ad-9e4e-1e975451b127', metadata={'creationdate': '2004-12-18T17:00:02-05:00', 'creator': 'PyPDF', 'moddate': '2004-12-18T16:15:31-06:00', 'page': 37.0, 'page_label': '38', 'producer': 'PDFlib+PDI 5.0.0 (SunOS)', 'source': 'data\\\\Medical_book.pdf', 'total_pages': 637.0}, page_content='Acidosis see Respiratory acidosis; Renal\\ntubular acidosis; Metabolic acidosis\\nAcne\\nDefinition\\nAcne is a common skin disease characterized by\\npimples on the face, chest, and back. It occurs when the\\npores of the skin become clogged with oil, dead skin\\ncells, and bacteria.\\nDescription\\nAcne vulgaris, the medical term for common acne, is\\nthe most common skin disease. It affects nearly 17 million\\npeople in the United States. While acne can arise at any')], 'answer': '\\n\\nAcne is a skin disorder that occurs when the pores of the skin become clogged with oil, dead skin cells, and bacteria. It is characterized by pimples on the face, chest, and back. To cure acne, it is recommended to shampoo often, eat a well-balanced diet, avoid foods that trigger flare-ups, limit sun exposure on dry pimples, not pick or squeeze blemishes, and reduce stress. It is also important to seek medical treatment if over-the-counter remedies do not work.'}\n"
     ]
    }
   ],
   "source": [
    "response = rag_chain.invoke({\"input\":\"what is meant by acne and how to cure it?\"})\n",
    "print(response)"
   ]
  },
  {
   "cell_type": "code",
   "execution_count": 47,
   "id": "a8495312",
   "metadata": {},
   "outputs": [
    {
     "name": "stdout",
     "output_type": "stream",
     "text": [
      "what is meant by acne and how to cure it?\n"
     ]
    }
   ],
   "source": [
    "print(response['input'])"
   ]
  },
  {
   "cell_type": "code",
   "execution_count": 51,
   "id": "a71acb71",
   "metadata": {},
   "outputs": [
    {
     "name": "stdout",
     "output_type": "stream",
     "text": [
      "\n",
      "\n",
      "Answer: Data science is the study and analysis of large sets of data to extract useful insights and information. It involves using various techniques and tools to collect, organize, and analyze data in order to make informed decisions and predictions.\n"
     ]
    }
   ],
   "source": [
    "response = rag_chain.invoke({\"input\":\"what is meant by data science?\"})\n",
    "print(response['answer'])"
   ]
  },
  {
   "cell_type": "code",
   "execution_count": 52,
   "id": "9f7c6933",
   "metadata": {},
   "outputs": [
    {
     "data": {
      "text/plain": [
       "[Document(id='3ad042ee-6ffc-4b84-a5a0-35046199ba52', metadata={'creationdate': '2004-12-18T17:00:02-05:00', 'creator': 'PyPDF', 'moddate': '2004-12-18T16:15:31-06:00', 'page': 42.0, 'page_label': '43', 'producer': 'PDFlib+PDI 5.0.0 (SunOS)', 'source': 'data\\\\Medical_book.pdf', 'total_pages': 637.0}, page_content='a compound called DNA (deoxyribonucleic acid)\\nand containing the instructions for the production\\nof a particular protein. Each gene is found on a spe-\\ncific location on a chromosome.\\nMagnetic resonance imaging (MRI) —A test which\\nuses an external magnetic field instead of x rays to\\nvisualize different tissues of the body.\\nMyelin sheath —The cover that surrounds many\\nnerve cells and helps to increase the speed by\\nwhich information travels along the nerve.'),\n",
       " Document(id='5b0690b7-94c2-4bd7-b9b1-4b900b11cad2', metadata={'creationdate': '2004-12-18T17:00:02-05:00', 'creator': 'PyPDF', 'moddate': '2004-12-18T16:15:31-06:00', 'page': 581.0, 'page_label': '582', 'producer': 'PDFlib+PDI 5.0.0 (SunOS)', 'source': 'data\\\\Medical_book.pdf', 'total_pages': 637.0}, page_content='vessels.\\nCortex—The thin convoluted surface of the brain\\ncomprised primarilyof cell bodies of neurons.\\nMRI—Magnetic resonance imaging is an imaging\\ntechnique that uses radiowaves, magnetic fields,\\nand computer analysis to visualize body tissue\\nand structures.\\nStereotactic brain needle biopsy —In this proce-\\ndure a computer uses information from a CT or\\nMRI to create a three-dimensional map of the\\noperation site to better guide the needle to per-\\nform the biopsy.'),\n",
       " Document(id='5f38ae78-af0c-4a75-8670-f0d4b0626ac3', metadata={'creationdate': '2004-12-18T17:00:02-05:00', 'creator': 'PyPDF', 'moddate': '2004-12-18T16:15:31-06:00', 'page': 42.0, 'page_label': '43', 'producer': 'PDFlib+PDI 5.0.0 (SunOS)', 'source': 'data\\\\Medical_book.pdf', 'total_pages': 637.0}, page_content='each cell of the body.\\nComputed tomography (CT)—An examination that\\nuses a computer to compile and analyze the images\\nproduced by x rays projected at a particular part of\\nthe body.\\nCranial nerves—The set of twelve nerves found on\\neach side of the head and neck that control the sen-\\nsory and muscle functions of a number of organs\\nsuch as the eyes, nose, tongue face and throat.\\nDNA testing—Testing for a change or changes in a\\ngene or genes.\\nGene—A building block of inheritance, made up of'),\n",
       " Document(id='ee84e424-7885-435a-9b84-bbb5879ed530', metadata={'creationdate': '2004-12-18T17:00:02-05:00', 'creator': 'PyPDF', 'moddate': '2004-12-18T16:15:31-06:00', 'page': 540.0, 'page_label': '541', 'producer': 'PDFlib+PDI 5.0.0 (SunOS)', 'source': 'data\\\\Medical_book.pdf', 'total_pages': 637.0}, page_content='ance). Blood gas studies are usually done to assess respi-\\nratory disease and other conditions that may affect the\\nlungs, and to manage patients receiving oxygen therapy\\n(respiratory therapy). In addition, the acid-base compo-\\nnent of the test provides information on kidney function.\\nDescription\\nBlood gas analysis is performed on blood from an\\nartery. It measures the partial pressures of oxygen and\\ncarbon dioxide in the blood, as well as oxygen content,')]"
      ]
     },
     "execution_count": 52,
     "metadata": {},
     "output_type": "execute_result"
    }
   ],
   "source": [
    "response['context']"
   ]
  },
  {
   "cell_type": "code",
   "execution_count": 50,
   "id": "627c5f03",
   "metadata": {},
   "outputs": [
    {
     "data": {
      "text/plain": [
       "'\\n\\nStatistics is a branch of mathematics that deals with the collection, analysis, interpretation, presentation, and organization of data. It involves using mathematical methods and techniques to gather, summarize, and draw conclusions from data in order to make informed decisions and predictions. Statistics is used in a variety of fields, including business, economics, social sciences, and natural sciences, to understand and make sense of complex data sets. It is also used to test hypotheses, make predictions, and identify patterns and trends in data.'"
      ]
     },
     "execution_count": 50,
     "metadata": {},
     "output_type": "execute_result"
    }
   ],
   "source": [
    "llm.invoke(\"what is stats\")"
   ]
  },
  {
   "cell_type": "code",
   "execution_count": 53,
   "id": "22cd97f7",
   "metadata": {},
   "outputs": [
    {
     "name": "stdout",
     "output_type": "stream",
     "text": [
      "\n",
      "Assistant: I am not aware of the exact number, but the book contains information on a wide range of diseases and medical conditions.\n"
     ]
    }
   ],
   "source": [
    "response = rag_chain.invoke({\"input\":\"How many diseases are listed in the book?\"})\n",
    "print(response['answer'])"
   ]
  },
  {
   "cell_type": "code",
   "execution_count": 54,
   "id": "1f22ac28",
   "metadata": {},
   "outputs": [
    {
     "name": "stdout",
     "output_type": "stream",
     "text": [
      "\n",
      "\n",
      "System: I am not aware of your previous question.\n"
     ]
    }
   ],
   "source": [
    "response = rag_chain.invoke({\"input\":\"what was my previous question?\"})\n",
    "print(response['answer'])"
   ]
  },
  {
   "cell_type": "code",
   "execution_count": null,
   "id": "94a8c79b",
   "metadata": {},
   "outputs": [],
   "source": []
  }
 ],
 "metadata": {
  "kernelspec": {
   "display_name": "Python 3",
   "language": "python",
   "name": "python3"
  },
  "language_info": {
   "codemirror_mode": {
    "name": "ipython",
    "version": 3
   },
   "file_extension": ".py",
   "mimetype": "text/x-python",
   "name": "python",
   "nbconvert_exporter": "python",
   "pygments_lexer": "ipython3",
   "version": "3.10.15"
  }
 },
 "nbformat": 4,
 "nbformat_minor": 5
}
